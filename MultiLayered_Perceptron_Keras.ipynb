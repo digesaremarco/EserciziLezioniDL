{
 "cells": [
  {
   "metadata": {},
   "cell_type": "markdown",
   "source": [
    "# Multi-Layered Perceptron tramite keras\n",
    "\n",
    "Esistono due tipi di Api per descrivere i modelli: sequenziale e funzionale.\n",
    "\n",
    "In una __Api sequenziale__ il modello viene specificato tramite una lista lista di layers, i quali formeranno un grafo computazionale con struttura lineare. L'input alimenta il primo layer della lista, a sua volta alimenta il secondo e così via. \n",
    "L'api è puramente dichiarativa, le variabili intermedie (corrispondono alle attivazioni negli strati nascosti) non compaiono nella specifica del modello. \n",
    "Il _vantaggio_ è l'estrema semplicità con cui definisco il modello, ma lo _svantaggio_ è la limitata flessibilità nella costruzione del grafo computazionale (continua a avere una struttura lineare).\n",
    "\n",
    "Le __Api funzionali__ permettono di descrivere anche grafi complessi, quindi posso definire blocchi di nodi di calcolo e riusarli, alimentare un layer con le uscite di due o più layer, implementare forme arbitrarie di condivisone di pesi e varie altre cose.\n",
    "Il flusso di operazioni effettuate deve essre scritto esplicitamnete, le variabili di out e in compaiono esplicitamente nel codice.\n",
    "\n",
    "Useremo __Keras__, è un api di alto livello implementata in Tensorflow. Consente di vedere la dichiarazione dei modelli e l'addestramento a diversi livelli di granularità. Ha funzioni semplici da usare che possono essere customizzate, se necessario. "
   ],
   "id": "e8bffe1b2d25c4c0"
  },
  {
   "metadata": {
    "ExecuteTime": {
     "end_time": "2024-11-03T09:43:57.302790Z",
     "start_time": "2024-11-03T09:43:45.768684Z"
    }
   },
   "cell_type": "code",
   "source": [
    "from types import SimpleNamespace\n",
    "\n",
    "import mnist\n",
    "from tensorflow.keras.models import Sequential\n",
    "from tensorflow.keras.layers import Input, Dense, ReLU\n",
    "\n",
    "from tensorflow.keras import losses\n",
    "from tensorflow.keras import optimizers"
   ],
   "id": "d2344aef92a32c8b",
   "outputs": [],
   "execution_count": 1
  },
  {
   "metadata": {},
   "cell_type": "markdown",
   "source": "Definiamo una funzione che crea e ritorna un modello.",
   "id": "e0688920d3af4100"
  },
  {
   "metadata": {
    "ExecuteTime": {
     "end_time": "2024-11-03T09:51:41.976383Z",
     "start_time": "2024-11-03T09:51:41.962792Z"
    }
   },
   "cell_type": "code",
   "source": [
    "def mlp_sequential(num_classes, input_dim, opts):\n",
    "    model = Sequential()  # lista di layers vuota, li aggiungo con il metodo add\n",
    "    model.add(Input((input_dim,)))  # input layer, specifico la dimensione dell'input\n",
    "    for hidden_dim in opts.layer_sizes:\n",
    "        model.add(Dense(hidden_dim))  # layer dense, è pienamente connesso\n",
    "        model.add(ReLU())  # funzione di attivazione\n",
    "    model.add(Dense(num_classes))  # classification head del modello\n",
    "    model.compile(loss=losses.CategoricalCrossentropy(from_logits=True), # from_logits true per avere stabilità numerica\n",
    "                  optimizer=optimizers.SGD(\n",
    "                      learning_rate=opts.learning_rate,\n",
    "                      momentum=opts.momentum),\n",
    "                  metrics=['accuracy']) # le metriche saranno calcolate e visualizzate durante l'apprendimento\n",
    "    return model   "
   ],
   "id": "db1c2e796b7c41fa",
   "outputs": [],
   "execution_count": 2
  },
  {
   "metadata": {},
   "cell_type": "markdown",
   "source": "Definizione dei parametri che verranno utilizzati. Questi valori sono arbitrari, ma hanno senso in questo caso.",
   "id": "fed690cb3aee9cc3"
  },
  {
   "metadata": {
    "ExecuteTime": {
     "end_time": "2024-11-03T10:13:23.027501Z",
     "start_time": "2024-11-03T10:13:23.021661Z"
    }
   },
   "cell_type": "code",
   "source": [
    "from types import SimpleNamespace\n",
    "\n",
    "opts = SimpleNamespace(\n",
    "dataset = 'mnist',\n",
    "learning_rate = 0.002,\n",
    "momentum = 0.95,\n",
    "num_epochs = 20,\n",
    "batch_size = 128,\n",
    "layer_sizes = [700, 500, 500]\n",
    ")"
   ],
   "id": "8a67ef25c90e7df8",
   "outputs": [],
   "execution_count": 13
  },
  {
   "metadata": {},
   "cell_type": "markdown",
   "source": "Sistemiamo i dati in modo da poter eseguire correttamente l'addestramento",
   "id": "ec70c61fe11f9b8a"
  },
  {
   "metadata": {
    "ExecuteTime": {
     "end_time": "2024-11-03T10:12:46.071568Z",
     "start_time": "2024-11-03T10:12:45.492560Z"
    }
   },
   "cell_type": "code",
   "source": [
    "# load dataset\n",
    "from tensorflow.keras.datasets import mnist\n",
    "import numpy as np\n",
    "\n",
    "(X_train, y_train), (X_test, y_test) = mnist.load_data()\n",
    "\n",
    "# da matrice a vettore\n",
    "input_dim = np.prod(X_train.shape[1:]) # appiattisco la matrice in un vettore dato che MLP lavora con vettori\n",
    "X_train = X_train.reshape(-1, input_dim)\n",
    "X_test = X_test.reshape(-1, input_dim)\n",
    "\n",
    "# normalizzo i dati\n",
    "X_train = X_train/255\n",
    "X_test = X_test/255\n",
    "\n",
    "# one-hot encoding\n",
    "from tensorflow.keras.utils import to_categorical\n",
    "y_train = to_categorical(y_train)\n",
    "y_test = to_categorical(y_test)"
   ],
   "id": "54feee1249b04914",
   "outputs": [],
   "execution_count": 11
  },
  {
   "metadata": {},
   "cell_type": "markdown",
   "source": "Costruiamo il modello",
   "id": "abdc541ec969100c"
  },
  {
   "metadata": {
    "ExecuteTime": {
     "end_time": "2024-11-03T10:16:11.827918Z",
     "start_time": "2024-11-03T10:16:11.692804Z"
    }
   },
   "cell_type": "code",
   "source": [
    "model = mlp_sequential(num_classes=y_train.shape[1], input_dim=input_dim, opts=opts)\n",
    "model.summary() # visualizzo la struttura del modello"
   ],
   "id": "c0dae4c988007279",
   "outputs": [
    {
     "data": {
      "text/plain": [
       "\u001B[1mModel: \"sequential_3\"\u001B[0m\n"
      ],
      "text/html": [
       "<pre style=\"white-space:pre;overflow-x:auto;line-height:normal;font-family:Menlo,'DejaVu Sans Mono',consolas,'Courier New',monospace\"><span style=\"font-weight: bold\">Model: \"sequential_3\"</span>\n",
       "</pre>\n"
      ]
     },
     "metadata": {},
     "output_type": "display_data"
    },
    {
     "data": {
      "text/plain": [
       "┏━━━━━━━━━━━━━━━━━━━━━━━━━━━━━━━━━┳━━━━━━━━━━━━━━━━━━━━━━━━┳━━━━━━━━━━━━━━━┓\n",
       "┃\u001B[1m \u001B[0m\u001B[1mLayer (type)                   \u001B[0m\u001B[1m \u001B[0m┃\u001B[1m \u001B[0m\u001B[1mOutput Shape          \u001B[0m\u001B[1m \u001B[0m┃\u001B[1m \u001B[0m\u001B[1m      Param #\u001B[0m\u001B[1m \u001B[0m┃\n",
       "┡━━━━━━━━━━━━━━━━━━━━━━━━━━━━━━━━━╇━━━━━━━━━━━━━━━━━━━━━━━━╇━━━━━━━━━━━━━━━┩\n",
       "│ dense_8 (\u001B[38;5;33mDense\u001B[0m)                 │ (\u001B[38;5;45mNone\u001B[0m, \u001B[38;5;34m700\u001B[0m)            │       \u001B[38;5;34m549,500\u001B[0m │\n",
       "├─────────────────────────────────┼────────────────────────┼───────────────┤\n",
       "│ re_lu_6 (\u001B[38;5;33mReLU\u001B[0m)                  │ (\u001B[38;5;45mNone\u001B[0m, \u001B[38;5;34m700\u001B[0m)            │             \u001B[38;5;34m0\u001B[0m │\n",
       "├─────────────────────────────────┼────────────────────────┼───────────────┤\n",
       "│ dense_9 (\u001B[38;5;33mDense\u001B[0m)                 │ (\u001B[38;5;45mNone\u001B[0m, \u001B[38;5;34m500\u001B[0m)            │       \u001B[38;5;34m350,500\u001B[0m │\n",
       "├─────────────────────────────────┼────────────────────────┼───────────────┤\n",
       "│ re_lu_7 (\u001B[38;5;33mReLU\u001B[0m)                  │ (\u001B[38;5;45mNone\u001B[0m, \u001B[38;5;34m500\u001B[0m)            │             \u001B[38;5;34m0\u001B[0m │\n",
       "├─────────────────────────────────┼────────────────────────┼───────────────┤\n",
       "│ dense_10 (\u001B[38;5;33mDense\u001B[0m)                │ (\u001B[38;5;45mNone\u001B[0m, \u001B[38;5;34m500\u001B[0m)            │       \u001B[38;5;34m250,500\u001B[0m │\n",
       "├─────────────────────────────────┼────────────────────────┼───────────────┤\n",
       "│ re_lu_8 (\u001B[38;5;33mReLU\u001B[0m)                  │ (\u001B[38;5;45mNone\u001B[0m, \u001B[38;5;34m500\u001B[0m)            │             \u001B[38;5;34m0\u001B[0m │\n",
       "├─────────────────────────────────┼────────────────────────┼───────────────┤\n",
       "│ dense_11 (\u001B[38;5;33mDense\u001B[0m)                │ (\u001B[38;5;45mNone\u001B[0m, \u001B[38;5;34m10\u001B[0m)             │         \u001B[38;5;34m5,010\u001B[0m │\n",
       "└─────────────────────────────────┴────────────────────────┴───────────────┘\n"
      ],
      "text/html": [
       "<pre style=\"white-space:pre;overflow-x:auto;line-height:normal;font-family:Menlo,'DejaVu Sans Mono',consolas,'Courier New',monospace\">┏━━━━━━━━━━━━━━━━━━━━━━━━━━━━━━━━━┳━━━━━━━━━━━━━━━━━━━━━━━━┳━━━━━━━━━━━━━━━┓\n",
       "┃<span style=\"font-weight: bold\"> Layer (type)                    </span>┃<span style=\"font-weight: bold\"> Output Shape           </span>┃<span style=\"font-weight: bold\">       Param # </span>┃\n",
       "┡━━━━━━━━━━━━━━━━━━━━━━━━━━━━━━━━━╇━━━━━━━━━━━━━━━━━━━━━━━━╇━━━━━━━━━━━━━━━┩\n",
       "│ dense_8 (<span style=\"color: #0087ff; text-decoration-color: #0087ff\">Dense</span>)                 │ (<span style=\"color: #00d7ff; text-decoration-color: #00d7ff\">None</span>, <span style=\"color: #00af00; text-decoration-color: #00af00\">700</span>)            │       <span style=\"color: #00af00; text-decoration-color: #00af00\">549,500</span> │\n",
       "├─────────────────────────────────┼────────────────────────┼───────────────┤\n",
       "│ re_lu_6 (<span style=\"color: #0087ff; text-decoration-color: #0087ff\">ReLU</span>)                  │ (<span style=\"color: #00d7ff; text-decoration-color: #00d7ff\">None</span>, <span style=\"color: #00af00; text-decoration-color: #00af00\">700</span>)            │             <span style=\"color: #00af00; text-decoration-color: #00af00\">0</span> │\n",
       "├─────────────────────────────────┼────────────────────────┼───────────────┤\n",
       "│ dense_9 (<span style=\"color: #0087ff; text-decoration-color: #0087ff\">Dense</span>)                 │ (<span style=\"color: #00d7ff; text-decoration-color: #00d7ff\">None</span>, <span style=\"color: #00af00; text-decoration-color: #00af00\">500</span>)            │       <span style=\"color: #00af00; text-decoration-color: #00af00\">350,500</span> │\n",
       "├─────────────────────────────────┼────────────────────────┼───────────────┤\n",
       "│ re_lu_7 (<span style=\"color: #0087ff; text-decoration-color: #0087ff\">ReLU</span>)                  │ (<span style=\"color: #00d7ff; text-decoration-color: #00d7ff\">None</span>, <span style=\"color: #00af00; text-decoration-color: #00af00\">500</span>)            │             <span style=\"color: #00af00; text-decoration-color: #00af00\">0</span> │\n",
       "├─────────────────────────────────┼────────────────────────┼───────────────┤\n",
       "│ dense_10 (<span style=\"color: #0087ff; text-decoration-color: #0087ff\">Dense</span>)                │ (<span style=\"color: #00d7ff; text-decoration-color: #00d7ff\">None</span>, <span style=\"color: #00af00; text-decoration-color: #00af00\">500</span>)            │       <span style=\"color: #00af00; text-decoration-color: #00af00\">250,500</span> │\n",
       "├─────────────────────────────────┼────────────────────────┼───────────────┤\n",
       "│ re_lu_8 (<span style=\"color: #0087ff; text-decoration-color: #0087ff\">ReLU</span>)                  │ (<span style=\"color: #00d7ff; text-decoration-color: #00d7ff\">None</span>, <span style=\"color: #00af00; text-decoration-color: #00af00\">500</span>)            │             <span style=\"color: #00af00; text-decoration-color: #00af00\">0</span> │\n",
       "├─────────────────────────────────┼────────────────────────┼───────────────┤\n",
       "│ dense_11 (<span style=\"color: #0087ff; text-decoration-color: #0087ff\">Dense</span>)                │ (<span style=\"color: #00d7ff; text-decoration-color: #00d7ff\">None</span>, <span style=\"color: #00af00; text-decoration-color: #00af00\">10</span>)             │         <span style=\"color: #00af00; text-decoration-color: #00af00\">5,010</span> │\n",
       "└─────────────────────────────────┴────────────────────────┴───────────────┘\n",
       "</pre>\n"
      ]
     },
     "metadata": {},
     "output_type": "display_data"
    },
    {
     "data": {
      "text/plain": [
       "\u001B[1m Total params: \u001B[0m\u001B[38;5;34m1,155,510\u001B[0m (4.41 MB)\n"
      ],
      "text/html": [
       "<pre style=\"white-space:pre;overflow-x:auto;line-height:normal;font-family:Menlo,'DejaVu Sans Mono',consolas,'Courier New',monospace\"><span style=\"font-weight: bold\"> Total params: </span><span style=\"color: #00af00; text-decoration-color: #00af00\">1,155,510</span> (4.41 MB)\n",
       "</pre>\n"
      ]
     },
     "metadata": {},
     "output_type": "display_data"
    },
    {
     "data": {
      "text/plain": [
       "\u001B[1m Trainable params: \u001B[0m\u001B[38;5;34m1,155,510\u001B[0m (4.41 MB)\n"
      ],
      "text/html": [
       "<pre style=\"white-space:pre;overflow-x:auto;line-height:normal;font-family:Menlo,'DejaVu Sans Mono',consolas,'Courier New',monospace\"><span style=\"font-weight: bold\"> Trainable params: </span><span style=\"color: #00af00; text-decoration-color: #00af00\">1,155,510</span> (4.41 MB)\n",
       "</pre>\n"
      ]
     },
     "metadata": {},
     "output_type": "display_data"
    },
    {
     "data": {
      "text/plain": [
       "\u001B[1m Non-trainable params: \u001B[0m\u001B[38;5;34m0\u001B[0m (0.00 B)\n"
      ],
      "text/html": [
       "<pre style=\"white-space:pre;overflow-x:auto;line-height:normal;font-family:Menlo,'DejaVu Sans Mono',consolas,'Courier New',monospace\"><span style=\"font-weight: bold\"> Non-trainable params: </span><span style=\"color: #00af00; text-decoration-color: #00af00\">0</span> (0.00 B)\n",
       "</pre>\n"
      ]
     },
     "metadata": {},
     "output_type": "display_data"
    }
   ],
   "execution_count": 16
  },
  {
   "metadata": {},
   "cell_type": "markdown",
   "source": [
    "Passiamo all'ottimizzazione del modello, viene fatta tramite il metodo __fit__.\n",
    "\n",
    "Al termine di ciiascuna epoca ho il valore di accuratezza e loss."
   ],
   "id": "59d7141a594fd4d"
  },
  {
   "metadata": {
    "ExecuteTime": {
     "end_time": "2024-11-03T10:20:20.259131Z",
     "start_time": "2024-11-03T10:19:01.923497Z"
    }
   },
   "cell_type": "code",
   "source": "model.fit(X_train, y_train, epochs=opts.num_epochs, batch_size=opts.batch_size, validation_data=(X_test, y_test))",
   "id": "f29ee97ed43c7aae",
   "outputs": [
    {
     "name": "stdout",
     "output_type": "stream",
     "text": [
      "Epoch 1/20\n",
      "\u001B[1m469/469\u001B[0m \u001B[32m━━━━━━━━━━━━━━━━━━━━\u001B[0m\u001B[37m\u001B[0m \u001B[1m5s\u001B[0m 11ms/step - accuracy: 0.9912 - loss: 0.0340 - val_accuracy: 0.9780 - val_loss: 0.0731\n",
      "Epoch 2/20\n",
      "\u001B[1m469/469\u001B[0m \u001B[32m━━━━━━━━━━━━━━━━━━━━\u001B[0m\u001B[37m\u001B[0m \u001B[1m4s\u001B[0m 9ms/step - accuracy: 0.9927 - loss: 0.0293 - val_accuracy: 0.9767 - val_loss: 0.0720\n",
      "Epoch 3/20\n",
      "\u001B[1m469/469\u001B[0m \u001B[32m━━━━━━━━━━━━━━━━━━━━\u001B[0m\u001B[37m\u001B[0m \u001B[1m4s\u001B[0m 8ms/step - accuracy: 0.9938 - loss: 0.0265 - val_accuracy: 0.9772 - val_loss: 0.0735\n",
      "Epoch 4/20\n",
      "\u001B[1m469/469\u001B[0m \u001B[32m━━━━━━━━━━━━━━━━━━━━\u001B[0m\u001B[37m\u001B[0m \u001B[1m3s\u001B[0m 7ms/step - accuracy: 0.9938 - loss: 0.0245 - val_accuracy: 0.9784 - val_loss: 0.0690\n",
      "Epoch 5/20\n",
      "\u001B[1m469/469\u001B[0m \u001B[32m━━━━━━━━━━━━━━━━━━━━\u001B[0m\u001B[37m\u001B[0m \u001B[1m4s\u001B[0m 7ms/step - accuracy: 0.9953 - loss: 0.0198 - val_accuracy: 0.9792 - val_loss: 0.0674\n",
      "Epoch 6/20\n",
      "\u001B[1m469/469\u001B[0m \u001B[32m━━━━━━━━━━━━━━━━━━━━\u001B[0m\u001B[37m\u001B[0m \u001B[1m3s\u001B[0m 7ms/step - accuracy: 0.9960 - loss: 0.0193 - val_accuracy: 0.9790 - val_loss: 0.0670\n",
      "Epoch 7/20\n",
      "\u001B[1m469/469\u001B[0m \u001B[32m━━━━━━━━━━━━━━━━━━━━\u001B[0m\u001B[37m\u001B[0m \u001B[1m4s\u001B[0m 8ms/step - accuracy: 0.9970 - loss: 0.0163 - val_accuracy: 0.9790 - val_loss: 0.0663\n",
      "Epoch 8/20\n",
      "\u001B[1m469/469\u001B[0m \u001B[32m━━━━━━━━━━━━━━━━━━━━\u001B[0m\u001B[37m\u001B[0m \u001B[1m4s\u001B[0m 8ms/step - accuracy: 0.9975 - loss: 0.0148 - val_accuracy: 0.9802 - val_loss: 0.0673\n",
      "Epoch 9/20\n",
      "\u001B[1m469/469\u001B[0m \u001B[32m━━━━━━━━━━━━━━━━━━━━\u001B[0m\u001B[37m\u001B[0m \u001B[1m4s\u001B[0m 8ms/step - accuracy: 0.9983 - loss: 0.0127 - val_accuracy: 0.9791 - val_loss: 0.0669\n",
      "Epoch 10/20\n",
      "\u001B[1m469/469\u001B[0m \u001B[32m━━━━━━━━━━━━━━━━━━━━\u001B[0m\u001B[37m\u001B[0m \u001B[1m4s\u001B[0m 8ms/step - accuracy: 0.9989 - loss: 0.0106 - val_accuracy: 0.9794 - val_loss: 0.0666\n",
      "Epoch 11/20\n",
      "\u001B[1m469/469\u001B[0m \u001B[32m━━━━━━━━━━━━━━━━━━━━\u001B[0m\u001B[37m\u001B[0m \u001B[1m4s\u001B[0m 8ms/step - accuracy: 0.9988 - loss: 0.0101 - val_accuracy: 0.9789 - val_loss: 0.0691\n",
      "Epoch 12/20\n",
      "\u001B[1m469/469\u001B[0m \u001B[32m━━━━━━━━━━━━━━━━━━━━\u001B[0m\u001B[37m\u001B[0m \u001B[1m4s\u001B[0m 8ms/step - accuracy: 0.9991 - loss: 0.0094 - val_accuracy: 0.9799 - val_loss: 0.0692\n",
      "Epoch 13/20\n",
      "\u001B[1m469/469\u001B[0m \u001B[32m━━━━━━━━━━━━━━━━━━━━\u001B[0m\u001B[37m\u001B[0m \u001B[1m4s\u001B[0m 8ms/step - accuracy: 0.9991 - loss: 0.0085 - val_accuracy: 0.9796 - val_loss: 0.0692\n",
      "Epoch 14/20\n",
      "\u001B[1m469/469\u001B[0m \u001B[32m━━━━━━━━━━━━━━━━━━━━\u001B[0m\u001B[37m\u001B[0m \u001B[1m4s\u001B[0m 8ms/step - accuracy: 0.9992 - loss: 0.0074 - val_accuracy: 0.9794 - val_loss: 0.0685\n",
      "Epoch 15/20\n",
      "\u001B[1m469/469\u001B[0m \u001B[32m━━━━━━━━━━━━━━━━━━━━\u001B[0m\u001B[37m\u001B[0m \u001B[1m4s\u001B[0m 8ms/step - accuracy: 0.9996 - loss: 0.0069 - val_accuracy: 0.9782 - val_loss: 0.0724\n",
      "Epoch 16/20\n",
      "\u001B[1m469/469\u001B[0m \u001B[32m━━━━━━━━━━━━━━━━━━━━\u001B[0m\u001B[37m\u001B[0m \u001B[1m4s\u001B[0m 8ms/step - accuracy: 0.9995 - loss: 0.0065 - val_accuracy: 0.9784 - val_loss: 0.0710\n",
      "Epoch 17/20\n",
      "\u001B[1m469/469\u001B[0m \u001B[32m━━━━━━━━━━━━━━━━━━━━\u001B[0m\u001B[37m\u001B[0m \u001B[1m4s\u001B[0m 8ms/step - accuracy: 0.9997 - loss: 0.0053 - val_accuracy: 0.9794 - val_loss: 0.0687\n",
      "Epoch 18/20\n",
      "\u001B[1m469/469\u001B[0m \u001B[32m━━━━━━━━━━━━━━━━━━━━\u001B[0m\u001B[37m\u001B[0m \u001B[1m4s\u001B[0m 8ms/step - accuracy: 0.9997 - loss: 0.0055 - val_accuracy: 0.9800 - val_loss: 0.0703\n",
      "Epoch 19/20\n",
      "\u001B[1m469/469\u001B[0m \u001B[32m━━━━━━━━━━━━━━━━━━━━\u001B[0m\u001B[37m\u001B[0m \u001B[1m4s\u001B[0m 8ms/step - accuracy: 0.9997 - loss: 0.0045 - val_accuracy: 0.9799 - val_loss: 0.0714\n",
      "Epoch 20/20\n",
      "\u001B[1m469/469\u001B[0m \u001B[32m━━━━━━━━━━━━━━━━━━━━\u001B[0m\u001B[37m\u001B[0m \u001B[1m4s\u001B[0m 8ms/step - accuracy: 0.9998 - loss: 0.0043 - val_accuracy: 0.9799 - val_loss: 0.0696\n"
     ]
    },
    {
     "data": {
      "text/plain": [
       "<keras.src.callbacks.history.History at 0x216f0310210>"
      ]
     },
     "execution_count": 18,
     "metadata": {},
     "output_type": "execute_result"
    }
   ],
   "execution_count": 18
  },
  {
   "metadata": {
    "ExecuteTime": {
     "end_time": "2024-11-03T10:21:22.174362Z",
     "start_time": "2024-11-03T10:21:21.601244Z"
    }
   },
   "cell_type": "code",
   "source": [
    "loss_and_acc = model.evaluate(X_test, y_test, batch_size=opts.batch_size)\n",
    "print(f\"Loss: {loss_and_acc[0]}, Accuracy: {loss_and_acc[1]}\")"
   ],
   "id": "9abada20418abff3",
   "outputs": [
    {
     "name": "stdout",
     "output_type": "stream",
     "text": [
      "\u001B[1m79/79\u001B[0m \u001B[32m━━━━━━━━━━━━━━━━━━━━\u001B[0m\u001B[37m\u001B[0m \u001B[1m0s\u001B[0m 5ms/step - accuracy: 0.9757 - loss: 0.0858\n",
      "Loss: 0.06956718116998672, Accuracy: 0.9799000024795532\n"
     ]
    }
   ],
   "execution_count": 19
  },
  {
   "metadata": {
    "ExecuteTime": {
     "end_time": "2024-11-03T10:23:18.159927Z",
     "start_time": "2024-11-03T10:23:18.114401Z"
    }
   },
   "cell_type": "code",
   "source": [
    "# grafici dell'accuratezza e loss\n",
    "import matplotlib.pyplot as plt\n",
    "\n",
    "accuracy = model.history.history['accuracy']\n",
    "val_accuracy = model.history.history['val_accuracy']\n",
    "loss = model.history.history['loss']\n",
    "val_loss = model.history.history['val_loss']\n",
    "\n",
    "plt.plot(accuracy)\n",
    "plt.plot(val_accuracy)\n",
    "plt.title('model accuracy')\n",
    "plt.ylabel('accuracy')\n",
    "plt.xlabel('epoch')\n",
    "plt.legend(['train', 'test'], loc='upper left')\n",
    "plt.show()"
   ],
   "id": "f3cd771647c83558",
   "outputs": [
    {
     "ename": "KeyError",
     "evalue": "'accuracy'",
     "output_type": "error",
     "traceback": [
      "\u001B[1;31m---------------------------------------------------------------------------\u001B[0m",
      "\u001B[1;31mKeyError\u001B[0m                                  Traceback (most recent call last)",
      "Cell \u001B[1;32mIn[21], line 2\u001B[0m\n\u001B[0;32m      1\u001B[0m \u001B[38;5;66;03m# grafici dell'accuratezza e loss\u001B[39;00m\n\u001B[1;32m----> 2\u001B[0m accuracy \u001B[38;5;241m=\u001B[39m \u001B[43mmodel\u001B[49m\u001B[38;5;241;43m.\u001B[39;49m\u001B[43mhistory\u001B[49m\u001B[38;5;241;43m.\u001B[39;49m\u001B[43mhistory\u001B[49m\u001B[43m[\u001B[49m\u001B[38;5;124;43m'\u001B[39;49m\u001B[38;5;124;43maccuracy\u001B[39;49m\u001B[38;5;124;43m'\u001B[39;49m\u001B[43m]\u001B[49m\n\u001B[0;32m      3\u001B[0m val_accuracy \u001B[38;5;241m=\u001B[39m model\u001B[38;5;241m.\u001B[39mhistory\u001B[38;5;241m.\u001B[39mhistory[\u001B[38;5;124m'\u001B[39m\u001B[38;5;124mval_accuracy\u001B[39m\u001B[38;5;124m'\u001B[39m]\n\u001B[0;32m      4\u001B[0m loss \u001B[38;5;241m=\u001B[39m model\u001B[38;5;241m.\u001B[39mhistory\u001B[38;5;241m.\u001B[39mhistory[\u001B[38;5;124m'\u001B[39m\u001B[38;5;124mloss\u001B[39m\u001B[38;5;124m'\u001B[39m]\n",
      "\u001B[1;31mKeyError\u001B[0m: 'accuracy'"
     ]
    }
   ],
   "execution_count": 21
  },
  {
   "metadata": {},
   "cell_type": "code",
   "outputs": [],
   "execution_count": null,
   "source": "",
   "id": "e9c404e27445d0a6"
  }
 ],
 "metadata": {
  "kernelspec": {
   "display_name": "Python 3",
   "language": "python",
   "name": "python3"
  },
  "language_info": {
   "codemirror_mode": {
    "name": "ipython",
    "version": 2
   },
   "file_extension": ".py",
   "mimetype": "text/x-python",
   "name": "python",
   "nbconvert_exporter": "python",
   "pygments_lexer": "ipython2",
   "version": "2.7.6"
  }
 },
 "nbformat": 4,
 "nbformat_minor": 5
}
